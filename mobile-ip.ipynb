{
 "cells": [
  {
   "cell_type": "code",
   "execution_count": 2,
   "metadata": {},
   "outputs": [],
   "source": [
    "import urllib\n",
    "import cv2 \n",
    "import numpy as np\n",
    "import requests\n",
    "import json\n",
    "import io"
   ]
  },
  {
   "cell_type": "code",
   "execution_count": 3,
   "metadata": {},
   "outputs": [],
   "source": [
    "url = \"http://192.168.1.3:8080/shot.jpg\"\n",
    "\n",
    "while True:\n",
    "    \n",
    "    img_request = requests.get(url)\n",
    "    img_arrint = np.array(bytearray(img_request.content), dtype=np.uint8)\n",
    "    img = cv2.imdecode(img_arrint, -1)\n",
    "    cv2.imshow(\"video-stream\", img)\n",
    "    \n",
    "    if cv2.waitKey(1)==27:\n",
    "        break"
   ]
  },
  {
   "cell_type": "code",
   "execution_count": null,
   "metadata": {},
   "outputs": [],
   "source": [
    "img = cv2.imread(\"screenshot.jpg\")\n",
    "height, width, _ = img.shape\n",
    "url_api = \"https://api.ocr.space/parse/image\"\n",
    "_, compressedimage = cv2.imencode(\".jpg\", roi, [1, 90])\n",
    "file_bytes = io.BytesIO(compressedimage)\n",
    "result = requests.post(url_api,\n",
    "              files = {\"screenshot.jpg\": file_bytes},\n",
    "              data = {\"apikey\": \"YOURAPIKEYHERE\",\n",
    "                      \"language\": \"eng\"})"
   ]
  }
 ],
 "metadata": {
  "kernelspec": {
   "display_name": "Python 3",
   "language": "python",
   "name": "python3"
  },
  "language_info": {
   "codemirror_mode": {
    "name": "ipython",
    "version": 3
   },
   "file_extension": ".py",
   "mimetype": "text/x-python",
   "name": "python",
   "nbconvert_exporter": "python",
   "pygments_lexer": "ipython3",
   "version": "3.7.4"
  }
 },
 "nbformat": 4,
 "nbformat_minor": 2
}
